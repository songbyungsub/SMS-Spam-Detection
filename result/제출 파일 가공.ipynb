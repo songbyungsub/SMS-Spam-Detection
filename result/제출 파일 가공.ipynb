{
 "cells": [
  {
   "cell_type": "code",
   "execution_count": null,
   "id": "2469d1a9-a27e-4209-b155-ef4555ab9f68",
   "metadata": {},
   "outputs": [],
   "source": [
    "import pandas as pd\n",
    "data = pd.read_csv('byungsub.csv')\n",
    "data"
   ]
  },
  {
   "cell_type": "code",
   "execution_count": null,
   "id": "6f4b0a21-a8eb-4c14-8e3d-7fcbc6876fc8",
   "metadata": {},
   "outputs": [],
   "source": [
    "data.drop(['text','proc_text'], axis=1, inplace=True)"
   ]
  },
  {
   "cell_type": "code",
   "execution_count": null,
   "id": "43a2ada2-2b1f-459f-97a5-99e0f3117f59",
   "metadata": {},
   "outputs": [],
   "source": [
    "data"
   ]
  },
  {
   "cell_type": "code",
   "execution_count": null,
   "id": "214f0c96-ce2a-41f0-9fbe-a0914d67834a",
   "metadata": {},
   "outputs": [],
   "source": []
  },
  {
   "cell_type": "code",
   "execution_count": null,
   "id": "7a4f59e9-d3c9-4dc8-8930-6218e21df0d8",
   "metadata": {},
   "outputs": [],
   "source": [
    "data.rename(columns={'pred' : 'label'}, inplace = True)"
   ]
  },
  {
   "cell_type": "code",
   "execution_count": null,
   "id": "1eb4f9ce-9cb1-43e2-b7ac-5038b77cd98e",
   "metadata": {},
   "outputs": [],
   "source": [
    "data"
   ]
  },
  {
   "cell_type": "code",
   "execution_count": null,
   "id": "06981b8c-38d5-4674-b570-0397d50ac4be",
   "metadata": {},
   "outputs": [],
   "source": []
  },
  {
   "cell_type": "code",
   "execution_count": null,
   "id": "27453302-3ebe-4f3c-aea8-5eb54add9d95",
   "metadata": {},
   "outputs": [],
   "source": [
    "data['label'] = data['label'].replace([1,0],['ham','spam'])"
   ]
  },
  {
   "cell_type": "code",
   "execution_count": null,
   "id": "948e7f30-ea4e-4faa-9e4b-0a74aaaf2372",
   "metadata": {},
   "outputs": [],
   "source": [
    "data"
   ]
  },
  {
   "cell_type": "code",
   "execution_count": null,
   "id": "8b61d417-f99f-40be-bd6f-df82774171ad",
   "metadata": {},
   "outputs": [],
   "source": []
  },
  {
   "cell_type": "code",
   "execution_count": null,
   "id": "bbf5a1a3-b8a5-4350-84f9-e5ba0416d219",
   "metadata": {},
   "outputs": [],
   "source": [
    "data.to_csv(\"/aihub/data/sbs_v2.csv\", index=False)"
   ]
  }
 ],
 "metadata": {
  "kernelspec": {
   "display_name": "Python 3",
   "language": "python",
   "name": "python3"
  },
  "language_info": {
   "codemirror_mode": {
    "name": "ipython",
    "version": 3
   },
   "file_extension": ".py",
   "mimetype": "text/x-python",
   "name": "python",
   "nbconvert_exporter": "python",
   "pygments_lexer": "ipython3",
   "version": "3.8.8"
  }
 },
 "nbformat": 4,
 "nbformat_minor": 5
}
