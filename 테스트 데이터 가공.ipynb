{
 "cells": [
  {
   "cell_type": "code",
   "execution_count": null,
   "id": "c97318ca-3bf3-4101-ae41-9b729bbd271f",
   "metadata": {},
   "outputs": [],
   "source": [
    "from cProfile import label\n",
    "import re\n",
    "import random\n",
    "import pandas as pd\n",
    "import numpy as np\n",
    "import warnings\n",
    "from os.path import join as pjoin\n",
    "warnings.filterwarnings(action='ignore')"
   ]
  },
  {
   "cell_type": "code",
   "execution_count": null,
   "id": "9011db90-bf07-4965-863f-e926112d85c9",
   "metadata": {},
   "outputs": [],
   "source": [
    "seed = 19\n",
    "random.seed(seed)\n",
    "np.random.seed(seed)"
   ]
  },
  {
   "cell_type": "code",
   "execution_count": null,
   "id": "d1f02937-6739-4a55-b647-d2265125117c",
   "metadata": {},
   "outputs": [],
   "source": [
    "def del_newline(text : str):\n",
    "    return re.sub('[\\s\\n\\t]+', ' ', text)\n",
    "\n",
    "def del_special_char(text : str):\n",
    "    return re.sub('[^가-힣ㄱ-ㅎㅏ-ㅣ,.?!~@0-9a-zA-Z\\s]+', '', text)\n",
    "\n",
    "repeatchars_pattern = re.compile('(\\D)\\\\1{2,}')\n",
    "def repeat_normalize(text : str, num_repeats : int):\n",
    "    if num_repeats > 0:\n",
    "        text = repeatchars_pattern.sub('\\\\1' * num_repeats, text)\n",
    "    return text\n",
    "\n",
    "def del_duplicated_space(text : str):\n",
    "    return re.sub('[\\s]+', ' ', text)\n",
    "\n",
    "def preprocess(text : str):\n",
    "    proc_txt = del_newline(text)\n",
    "    proc_txt = del_special_char(proc_txt)\n",
    "    proc_txt = repeat_normalize(proc_txt, num_repeats=3)\n",
    "    proc_txt = del_duplicated_space(proc_txt)\n",
    "    return proc_txt.strip()\n",
    "\n",
    "def processing(data):\n",
    "    # text processing\n",
    "    data['proc_text'] = list(map(preprocess, data['text']))\n",
    "    return data"
   ]
  },
  {
   "cell_type": "code",
   "execution_count": null,
   "id": "0c8f131e-d6de-413d-8f4b-2e44589aa682",
   "metadata": {},
   "outputs": [],
   "source": [
    "test = pd.read_csv(pjoin(\"data\", \"spam_test_text.csv\"))"
   ]
  },
  {
   "cell_type": "code",
   "execution_count": null,
   "id": "81e3816a-2ca3-4fc9-8be7-ff4139b41bb6",
   "metadata": {},
   "outputs": [],
   "source": [
    "test = processing(test)"
   ]
  },
  {
   "cell_type": "code",
   "execution_count": null,
   "id": "3930135a-c0f5-46c6-b93d-8c0df90a4c35",
   "metadata": {},
   "outputs": [],
   "source": [
    "test"
   ]
  },
  {
   "cell_type": "code",
   "execution_count": null,
   "id": "91373f63-f508-4004-a326-339a93c59c7a",
   "metadata": {},
   "outputs": [],
   "source": [
    "test.to_csv(pjoin(\"data\", 'test.csv'), index=False)"
   ]
  },
  {
   "cell_type": "code",
   "execution_count": null,
   "id": "5805fa1c-7296-41f0-9c3a-8a8be00c1b62",
   "metadata": {},
   "outputs": [],
   "source": []
  },
  {
   "cell_type": "code",
   "execution_count": null,
   "id": "b13c383c-dc6c-497b-8318-5d9b3e203d9b",
   "metadata": {},
   "outputs": [],
   "source": []
  },
  {
   "cell_type": "code",
   "execution_count": null,
   "id": "29afc153-4626-4c03-8fd1-953d3a8efa03",
   "metadata": {},
   "outputs": [],
   "source": []
  },
  {
   "cell_type": "code",
   "execution_count": null,
   "id": "5a6b51a0-93e5-411d-b66f-bc919e607a37",
   "metadata": {},
   "outputs": [],
   "source": []
  },
  {
   "cell_type": "code",
   "execution_count": null,
   "id": "d95adf87-cc4a-4bc6-af7a-938714dcba81",
   "metadata": {},
   "outputs": [],
   "source": []
  },
  {
   "cell_type": "code",
   "execution_count": null,
   "id": "40ce5b99-02c0-4d81-b9b5-feca2e34d8a6",
   "metadata": {},
   "outputs": [],
   "source": []
  },
  {
   "cell_type": "code",
   "execution_count": null,
   "id": "071e540c-5ebf-4ac4-a5ec-0abdf1f90952",
   "metadata": {},
   "outputs": [],
   "source": []
  },
  {
   "cell_type": "code",
   "execution_count": null,
   "id": "2be9c914-060c-4b23-a321-d82f1adbeeff",
   "metadata": {},
   "outputs": [],
   "source": []
  },
  {
   "cell_type": "code",
   "execution_count": null,
   "id": "eb6b4ec0-b945-4a01-9b2c-52e7dff610a3",
   "metadata": {},
   "outputs": [],
   "source": []
  },
  {
   "cell_type": "code",
   "execution_count": null,
   "id": "1347e293-fa02-4499-9e67-2c90a37f6928",
   "metadata": {},
   "outputs": [],
   "source": []
  },
  {
   "cell_type": "code",
   "execution_count": null,
   "id": "433cadb6-4197-4845-8a81-b42ce30c6254",
   "metadata": {},
   "outputs": [],
   "source": []
  },
  {
   "cell_type": "code",
   "execution_count": null,
   "id": "a1d8fecb-4e1a-4a13-a227-3022848d23e8",
   "metadata": {},
   "outputs": [],
   "source": []
  },
  {
   "cell_type": "code",
   "execution_count": null,
   "id": "a141a5cd-8bcf-4a7b-a57f-055e1dcb3ce5",
   "metadata": {},
   "outputs": [],
   "source": []
  },
  {
   "cell_type": "code",
   "execution_count": null,
   "id": "5ac4e272-3a55-44dc-bc48-b55ad3eac038",
   "metadata": {},
   "outputs": [],
   "source": []
  }
 ],
 "metadata": {
  "kernelspec": {
   "display_name": "Python 3",
   "language": "python",
   "name": "python3"
  },
  "language_info": {
   "codemirror_mode": {
    "name": "ipython",
    "version": 3
   },
   "file_extension": ".py",
   "mimetype": "text/x-python",
   "name": "python",
   "nbconvert_exporter": "python",
   "pygments_lexer": "ipython3",
   "version": "3.8.8"
  }
 },
 "nbformat": 4,
 "nbformat_minor": 5
}
