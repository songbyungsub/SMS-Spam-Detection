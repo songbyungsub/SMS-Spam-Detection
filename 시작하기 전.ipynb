{
 "cells": [
  {
   "cell_type": "code",
   "execution_count": null,
   "id": "b1ee3c60-0d01-4b48-8e9a-60d064278505",
   "metadata": {},
   "outputs": [],
   "source": [
    "!git clone 'https://github.com/songbyungsub/ko-bert.git'"
   ]
  },
  {
   "cell_type": "code",
   "execution_count": null,
   "id": "998b2cd4-e1ed-47d7-94a9-2ae6c475beb6",
   "metadata": {},
   "outputs": [],
   "source": [
    "!pip install pytorch-lightning==1.2.0"
   ]
  },
  {
   "cell_type": "code",
   "execution_count": null,
   "id": "fd2cdc53-62d9-474a-9557-a76f3703a72d",
   "metadata": {},
   "outputs": [],
   "source": [
    "!pip install sentencepiece"
   ]
  },
  {
   "cell_type": "code",
   "execution_count": null,
   "id": "1ae16d44-a23d-41b5-b364-8ed8c76e642d",
   "metadata": {},
   "outputs": [],
   "source": [
    "import pandas as pd\n",
    "data = pd.read_csv('spam.csv')\n",
    "data"
   ]
  },
  {
   "cell_type": "code",
   "execution_count": null,
   "id": "e5755511-bd55-425f-b832-0deac6d5e120",
   "metadata": {},
   "outputs": [],
   "source": [
    "data.isna().sum()"
   ]
  },
  {
   "cell_type": "code",
   "execution_count": null,
   "id": "b716bf39-5fdc-4c9a-ab33-602937a2ed21",
   "metadata": {},
   "outputs": [],
   "source": [
    "data.dropna(axis=0,inplace=True)"
   ]
  },
  {
   "cell_type": "code",
   "execution_count": null,
   "id": "8548beaf-95c9-4a4a-bbcf-cf2cea0640b3",
   "metadata": {},
   "outputs": [],
   "source": [
    "import numpy as np\n",
    "import pandas as pd\n",
    "import matplotlib.pyplot as plt\n",
    "import urllib.request\n",
    "from sklearn.model_selection import train_test_split\n",
    "from tensorflow.keras.preprocessing.text import Tokenizer\n",
    "from tensorflow.keras.preprocessing.sequence import pad_sequences"
   ]
  },
  {
   "cell_type": "code",
   "execution_count": null,
   "id": "b407f566-fcae-4a7a-88d5-7c99d881367c",
   "metadata": {},
   "outputs": [],
   "source": [
    "data['label'] = data['label'].replace(['ham','spam'],[0,1])"
   ]
  },
  {
   "cell_type": "code",
   "execution_count": null,
   "id": "0c23f0f3-d8cc-443f-9c07-ed2a3f575e00",
   "metadata": {},
   "outputs": [],
   "source": [
    "print('label열의 유니크한 값 :',data['label'].nunique())\n",
    "print('text열의 유니크한 값 :',data['text'].nunique())"
   ]
  },
  {
   "cell_type": "code",
   "execution_count": null,
   "id": "4e11afe1-3cb7-4410-a782-ac71440df5cd",
   "metadata": {},
   "outputs": [],
   "source": [
    "data.drop_duplicates(subset=['text'], inplace=True)\n",
    "print('총 샘플의 수 :',len(data))"
   ]
  }
 ],
 "metadata": {
  "kernelspec": {
   "display_name": "Python 3",
   "language": "python",
   "name": "python3"
  },
  "language_info": {
   "codemirror_mode": {
    "name": "ipython",
    "version": 3
   },
   "file_extension": ".py",
   "mimetype": "text/x-python",
   "name": "python",
   "nbconvert_exporter": "python",
   "pygments_lexer": "ipython3",
   "version": "3.8.8"
  }
 },
 "nbformat": 4,
 "nbformat_minor": 5
}
